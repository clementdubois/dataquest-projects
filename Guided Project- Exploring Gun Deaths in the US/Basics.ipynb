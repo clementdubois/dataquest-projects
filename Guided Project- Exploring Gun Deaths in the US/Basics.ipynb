{
 "cells": [
  {
   "cell_type": "code",
   "execution_count": 131,
   "metadata": {
    "collapsed": false
   },
   "outputs": [
    {
     "data": {
      "text/html": [
       "<div>\n",
       "<table border=\"1\" class=\"dataframe\">\n",
       "  <thead>\n",
       "    <tr style=\"text-align: right;\">\n",
       "      <th></th>\n",
       "      <th>year</th>\n",
       "      <th>month</th>\n",
       "      <th>intent</th>\n",
       "      <th>police</th>\n",
       "      <th>sex</th>\n",
       "      <th>age</th>\n",
       "      <th>race</th>\n",
       "      <th>hispanic</th>\n",
       "      <th>place</th>\n",
       "      <th>education</th>\n",
       "    </tr>\n",
       "  </thead>\n",
       "  <tbody>\n",
       "    <tr>\n",
       "      <th>1</th>\n",
       "      <td>2012</td>\n",
       "      <td>1</td>\n",
       "      <td>Suicide</td>\n",
       "      <td>0</td>\n",
       "      <td>M</td>\n",
       "      <td>34.0</td>\n",
       "      <td>Asian/Pacific Islander</td>\n",
       "      <td>100</td>\n",
       "      <td>Home</td>\n",
       "      <td>4.0</td>\n",
       "    </tr>\n",
       "  </tbody>\n",
       "</table>\n",
       "</div>"
      ],
      "text/plain": [
       "   year  month   intent  police sex   age                    race  hispanic  \\\n",
       "1  2012      1  Suicide       0   M  34.0  Asian/Pacific Islander       100   \n",
       "\n",
       "  place  education  \n",
       "1  Home        4.0  "
      ]
     },
     "execution_count": 131,
     "metadata": {},
     "output_type": "execute_result"
    }
   ],
   "source": [
    "# Get guns data\n",
    "import pandas as pd\n",
    "gun_death = pd.read_csv(\"guns.csv\", index_col=0)\n",
    "gun_death[:1]"
   ]
  },
  {
   "cell_type": "code",
   "execution_count": 132,
   "metadata": {
    "collapsed": false
   },
   "outputs": [
    {
     "data": {
      "text/plain": [
       "year\n",
       "2012    33563\n",
       "2013    33636\n",
       "2014    33599\n",
       "Name: year, dtype: int64"
      ]
     },
     "execution_count": 132,
     "metadata": {},
     "output_type": "execute_result"
    }
   ],
   "source": [
    "# gun death by year\n",
    "death_by_year = gun_death.groupby([\"year\"])[\"year\"].count()\n",
    "death_by_year"
   ]
  },
  {
   "cell_type": "code",
   "execution_count": 133,
   "metadata": {
    "collapsed": false
   },
   "outputs": [
    {
     "data": {
      "text/html": [
       "<div>\n",
       "<table border=\"1\" class=\"dataframe\">\n",
       "  <thead>\n",
       "    <tr style=\"text-align: right;\">\n",
       "      <th></th>\n",
       "      <th>year</th>\n",
       "      <th>month</th>\n",
       "      <th>intent</th>\n",
       "      <th>police</th>\n",
       "      <th>sex</th>\n",
       "      <th>age</th>\n",
       "      <th>race</th>\n",
       "      <th>hispanic</th>\n",
       "      <th>place</th>\n",
       "      <th>education</th>\n",
       "      <th>day</th>\n",
       "      <th>datetime</th>\n",
       "    </tr>\n",
       "  </thead>\n",
       "  <tbody>\n",
       "    <tr>\n",
       "      <th>1</th>\n",
       "      <td>2012</td>\n",
       "      <td>1</td>\n",
       "      <td>Suicide</td>\n",
       "      <td>0</td>\n",
       "      <td>M</td>\n",
       "      <td>34.0</td>\n",
       "      <td>Asian/Pacific Islander</td>\n",
       "      <td>100</td>\n",
       "      <td>Home</td>\n",
       "      <td>4.0</td>\n",
       "      <td>1</td>\n",
       "      <td>2012-01-01</td>\n",
       "    </tr>\n",
       "  </tbody>\n",
       "</table>\n",
       "</div>"
      ],
      "text/plain": [
       "   year  month   intent  police sex   age                    race  hispanic  \\\n",
       "1  2012      1  Suicide       0   M  34.0  Asian/Pacific Islander       100   \n",
       "\n",
       "  place  education  day   datetime  \n",
       "1  Home        4.0    1 2012-01-01  "
      ]
     },
     "execution_count": 133,
     "metadata": {},
     "output_type": "execute_result"
    }
   ],
   "source": [
    "#gun death by year and month\n",
    "import datetime\n",
    "\n",
    "gun_death[\"day\"] = 1\n",
    "gun_death[\"datetime\"] = pd.to_datetime(gun_death[[\"year\", \"month\", \"day\"]])\n",
    "gun_death[:1]"
   ]
  },
  {
   "cell_type": "markdown",
   "metadata": {},
   "source": [
    "The number of death is not significantly different if we look only by year. \n",
    "If we specify the number of death by year and month we cannot see any significant patterns."
   ]
  },
  {
   "cell_type": "code",
   "execution_count": 134,
   "metadata": {
    "collapsed": false,
    "scrolled": true
   },
   "outputs": [
    {
     "name": "stdout",
     "output_type": "stream",
     "text": [
      "sex\n",
      "F    14449\n",
      "M    86349\n",
      "dtype: int64 race\n",
      "Asian/Pacific Islander             1326\n",
      "Black                             23296\n",
      "Hispanic                           9022\n",
      "Native American/Native Alaskan      917\n",
      "White                             66237\n",
      "dtype: int64\n"
     ]
    }
   ],
   "source": [
    "#death by race and sex\n",
    "sex_group = gun_death[[\"sex\"]].groupby(\"sex\").size()\n",
    "race_group = gun_death[[\"race\"]].groupby(\"race\").size()\n",
    "print(sex_group, race_group)"
   ]
  },
  {
   "cell_type": "markdown",
   "metadata": {},
   "source": [
    "While the number of death by date doesn't say much, we can see huge difference in terms of kills between men and women. Man are far more killed than women. \n",
    "We can also see that white men are far more killed than any other.\n",
    "\n",
    "We can't say mush about the huge proportion of white death and we have to dig deeper in the death by race to see if this is proportionaly equivalent for each race or to see if there is some kind of \"murder racism\""
   ]
  },
  {
   "cell_type": "code",
   "execution_count": 135,
   "metadata": {
    "collapsed": false
   },
   "outputs": [
    {
     "data": {
      "text/html": [
       "<div>\n",
       "<table border=\"1\" class=\"dataframe\">\n",
       "  <thead>\n",
       "    <tr style=\"text-align: right;\">\n",
       "      <th></th>\n",
       "      <th>Id</th>\n",
       "      <th>Year</th>\n",
       "      <th>Id.1</th>\n",
       "      <th>Sex</th>\n",
       "      <th>Id.2</th>\n",
       "      <th>Hispanic Origin</th>\n",
       "      <th>Id.3</th>\n",
       "      <th>Id2</th>\n",
       "      <th>Geography</th>\n",
       "      <th>Total</th>\n",
       "      <th>Race Alone - White</th>\n",
       "      <th>Race Alone - Hispanic</th>\n",
       "      <th>Race Alone - Black or African American</th>\n",
       "      <th>Race Alone - American Indian and Alaska Native</th>\n",
       "      <th>Race Alone - Asian</th>\n",
       "      <th>Race Alone - Native Hawaiian and Other Pacific Islander</th>\n",
       "      <th>Two or More Races</th>\n",
       "    </tr>\n",
       "  </thead>\n",
       "  <tbody>\n",
       "    <tr>\n",
       "      <th>0</th>\n",
       "      <td>cen42010</td>\n",
       "      <td>April 1, 2010 Census</td>\n",
       "      <td>totsex</td>\n",
       "      <td>Both Sexes</td>\n",
       "      <td>tothisp</td>\n",
       "      <td>Total</td>\n",
       "      <td>0100000US</td>\n",
       "      <td>NaN</td>\n",
       "      <td>United States</td>\n",
       "      <td>308745538</td>\n",
       "      <td>197318956</td>\n",
       "      <td>44618105</td>\n",
       "      <td>40250635</td>\n",
       "      <td>3739506</td>\n",
       "      <td>15159516</td>\n",
       "      <td>674625</td>\n",
       "      <td>6984195</td>\n",
       "    </tr>\n",
       "  </tbody>\n",
       "</table>\n",
       "</div>"
      ],
      "text/plain": [
       "         Id                  Year    Id.1         Sex     Id.2  \\\n",
       "0  cen42010  April 1, 2010 Census  totsex  Both Sexes  tothisp   \n",
       "\n",
       "  Hispanic Origin       Id.3  Id2      Geography      Total  \\\n",
       "0           Total  0100000US  NaN  United States  308745538   \n",
       "\n",
       "   Race Alone - White  Race Alone - Hispanic  \\\n",
       "0           197318956               44618105   \n",
       "\n",
       "   Race Alone - Black or African American  \\\n",
       "0                                40250635   \n",
       "\n",
       "   Race Alone - American Indian and Alaska Native  Race Alone - Asian  \\\n",
       "0                                         3739506            15159516   \n",
       "\n",
       "   Race Alone - Native Hawaiian and Other Pacific Islander  Two or More Races  \n",
       "0                                             674625                  6984195  "
      ]
     },
     "execution_count": 135,
     "metadata": {},
     "output_type": "execute_result"
    }
   ],
   "source": [
    "#read census\n",
    "census = pd.read_csv(\"census.csv\")\n",
    "census[:1]"
   ]
  },
  {
   "cell_type": "code",
   "execution_count": 136,
   "metadata": {
    "collapsed": false,
    "scrolled": true
   },
   "outputs": [
    {
     "data": {
      "text/plain": [
       "race\n",
       "Asian/Pacific Islander                                  0    8.37431\n",
       "dtype: float64\n",
       "Black                             0    57.877348\n",
       "Name: Race Alone - Black or Afr...\n",
       "Hispanic                          0    20.220491\n",
       "Name: Race Alone - Hispanic, dt...\n",
       "Native American/Native Alaskan    0    24.521956\n",
       "Name: Race Alone - American Ind...\n",
       "White                             0    33.568493\n",
       "Name: Race Alone - White, dtype...\n",
       "dtype: object"
      ]
     },
     "execution_count": 136,
     "metadata": {},
     "output_type": "execute_result"
    }
   ],
   "source": [
    "# race killed ratio\n",
    "\n",
    "census_killed = pd.Series({\n",
    "    \"Asian/Pacific Islander\" : census[\"Race Alone - Asian\"] + census[\"Race Alone - Native Hawaiian and Other Pacific Islander\"],\n",
    "    \"Black\" : census[\"Race Alone - Black or African American\"], \n",
    "    \"Native American/Native Alaskan\" : census[\"Race Alone - American Indian and Alaska Native\"],\n",
    "    \"Hispanic\" : census[\"Race Alone - Hispanic\"],\n",
    "    \"White\" : census[\"Race Alone - White\"]\n",
    "})\n",
    "\n",
    "(race_group / census_killed) * 100000\n"
   ]
  },
  {
   "cell_type": "code",
   "execution_count": 137,
   "metadata": {
    "collapsed": false
   },
   "outputs": [
    {
     "data": {
      "text/plain": [
       "race\n",
       "Asian/Pacific Islander                                 0    3.530346\n",
       "dtype: float64\n",
       "Black                             0    48.471285\n",
       "Name: Race Alone - Black or Afr...\n",
       "Hispanic                          0    12.627161\n",
       "Name: Race Alone - Hispanic, dt...\n",
       "Native American/Native Alaskan    0    8.717729\n",
       "Name: Race Alone - American Indi...\n",
       "White                             0    4.635642\n",
       "Name: Race Alone - White, dtype:...\n",
       "dtype: object"
      ]
     },
     "execution_count": 137,
     "metadata": {},
     "output_type": "execute_result"
    }
   ],
   "source": [
    "# intent homicide\n",
    "homicide = gun_death.loc[gun_death[\"intent\"] == \"Homicide\"]\n",
    "homicide_by_race = homicide.groupby(\"race\")[\"race\"].count()\n",
    "(homicide_by_race / census_killed) * 100000"
   ]
  }
 ],
 "metadata": {
  "anaconda-cloud": {},
  "kernelspec": {
   "display_name": "Python [default]",
   "language": "python",
   "name": "python3"
  },
  "language_info": {
   "codemirror_mode": {
    "name": "ipython",
    "version": 3
   },
   "file_extension": ".py",
   "mimetype": "text/x-python",
   "name": "python",
   "nbconvert_exporter": "python",
   "pygments_lexer": "ipython3",
   "version": "3.5.2"
  }
 },
 "nbformat": 4,
 "nbformat_minor": 0
}

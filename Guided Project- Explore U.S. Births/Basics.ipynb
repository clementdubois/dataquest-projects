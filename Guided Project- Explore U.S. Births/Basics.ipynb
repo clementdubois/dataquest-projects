{
 "cells": [
  {
   "cell_type": "code",
   "execution_count": 8,
   "metadata": {
    "collapsed": false
   },
   "outputs": [
    {
     "data": {
      "text/plain": [
       "['year,month,date_of_month,day_of_week,births',\n",
       " '1994,1,1,6,8096',\n",
       " '1994,1,2,7,7772',\n",
       " '1994,1,3,1,10142',\n",
       " '1994,1,4,2,11248',\n",
       " '1994,1,5,3,11053',\n",
       " '1994,1,6,4,11406',\n",
       " '1994,1,7,5,11251',\n",
       " '1994,1,8,6,8653',\n",
       " '1994,1,9,7,7910']"
      ]
     },
     "execution_count": 8,
     "metadata": {},
     "output_type": "execute_result"
    }
   ],
   "source": [
    "f = open(\"US_births_1994-2003_CDC_NCHS.csv\", \"r\")\n",
    "content = f.read()\n",
    "content_lines = content.split(\"\\n\")\n",
    "content_lines[0:10]"
   ]
  },
  {
   "cell_type": "code",
   "execution_count": 9,
   "metadata": {
    "collapsed": true
   },
   "outputs": [],
   "source": [
    "def read_csv(file_name):\n",
    "    f = open(file_name, \"r\")\n",
    "    content = f.read()\n",
    "    string_list = content.split(\"\\n\")[1:len(content)-1]\n",
    "    final_list = []\n",
    "    for item in string_list:\n",
    "        final_list.append(item.split(\",\"))\n",
    "    return final_list"
   ]
  },
  {
   "cell_type": "code",
   "execution_count": 64,
   "metadata": {
    "collapsed": false
   },
   "outputs": [
    {
     "data": {
      "text/plain": [
       "[['2003', '1', '1', '3', '7783']]"
      ]
     },
     "execution_count": 64,
     "metadata": {},
     "output_type": "execute_result"
    }
   ],
   "source": [
    "cdc_list = read_csv(\"US_births_1994-2003_CDC_NCHS.csv\")\n",
    "cdc_list[3287:3288]"
   ]
  },
  {
   "cell_type": "code",
   "execution_count": 11,
   "metadata": {
    "collapsed": true
   },
   "outputs": [],
   "source": [
    "def month_births(data):\n",
    "    births_per_month = {}\n",
    "    for item in data:\n",
    "        if int(item[1]) in births_per_month:\n",
    "            births_per_month[int(item[1])] += int(item[4])\n",
    "        else:\n",
    "            births_per_month[int(item[1])] = int(item[4])\n",
    "    return births_per_month"
   ]
  },
  {
   "cell_type": "code",
   "execution_count": 12,
   "metadata": {
    "collapsed": false
   },
   "outputs": [
    {
     "data": {
      "text/plain": [
       "{1: 3232517,\n",
       " 2: 3018140,\n",
       " 3: 3322069,\n",
       " 4: 3185314,\n",
       " 5: 3350907,\n",
       " 6: 3296530,\n",
       " 7: 3498783,\n",
       " 8: 3525858,\n",
       " 9: 3439698,\n",
       " 10: 3378814,\n",
       " 11: 3171647,\n",
       " 12: 3301860}"
      ]
     },
     "execution_count": 12,
     "metadata": {},
     "output_type": "execute_result"
    }
   ],
   "source": [
    "cdc_month_births = month_births(cdc_list)\n",
    "cdc_month_births"
   ]
  },
  {
   "cell_type": "code",
   "execution_count": 13,
   "metadata": {
    "collapsed": true
   },
   "outputs": [],
   "source": [
    "def dow_births(data):\n",
    "    births_per_dayweek = {}\n",
    "    for item in data:\n",
    "        if int(item[3]) in births_per_dayweek:\n",
    "            births_per_dayweek[int(item[3])] += int(item[4])\n",
    "        else:\n",
    "            births_per_dayweek[int(item[3])] = int(item[4])\n",
    "    return births_per_dayweek"
   ]
  },
  {
   "cell_type": "code",
   "execution_count": 14,
   "metadata": {
    "collapsed": false
   },
   "outputs": [
    {
     "data": {
      "text/plain": [
       "{1: 5789166,\n",
       " 2: 6446196,\n",
       " 3: 6322855,\n",
       " 4: 6288429,\n",
       " 5: 6233657,\n",
       " 6: 4562111,\n",
       " 7: 4079723}"
      ]
     },
     "execution_count": 14,
     "metadata": {},
     "output_type": "execute_result"
    }
   ],
   "source": [
    "cdc_day_births = dow_births(cdc_list)\n",
    "cdc_day_births"
   ]
  },
  {
   "cell_type": "code",
   "execution_count": 15,
   "metadata": {
    "collapsed": true
   },
   "outputs": [],
   "source": [
    "def calc_counts(data, column):\n",
    "    results = {}\n",
    "    for item in data:\n",
    "        if int(item[column]) in results:\n",
    "            results[int(item[column])] += int(item[4])\n",
    "        else:\n",
    "            results[int(item[column])] = int(item[4])\n",
    "    return results"
   ]
  },
  {
   "cell_type": "code",
   "execution_count": 16,
   "metadata": {
    "collapsed": true
   },
   "outputs": [],
   "source": [
    "cdc_year_births = calc_counts(cdc_list, 0)\n",
    "cdc_month_births = calc_counts(cdc_list, 1)\n",
    "cdc_dom_births = calc_counts(cdc_list, 2)\n",
    "cdc_month_births = calc_counts(cdc_list, 3)"
   ]
  },
  {
   "cell_type": "code",
   "execution_count": 19,
   "metadata": {
    "collapsed": false
   },
   "outputs": [
    {
     "data": {
      "text/plain": [
       "{1: 5789166,\n",
       " 2: 6446196,\n",
       " 3: 6322855,\n",
       " 4: 6288429,\n",
       " 5: 6233657,\n",
       " 6: 4562111,\n",
       " 7: 4079723}"
      ]
     },
     "execution_count": 19,
     "metadata": {},
     "output_type": "execute_result"
    }
   ],
   "source": [
    "cdc_month_births"
   ]
  },
  {
   "cell_type": "code",
   "execution_count": 1,
   "metadata": {
    "collapsed": true
   },
   "outputs": [],
   "source": [
    "def min(data):\n",
    "    minimum = data[0] \n",
    "    for item in data:\n",
    "        if item < minimum:\n",
    "            minimum = item\n",
    "    return minimum\n",
    "def max(data):\n",
    "    maximum = data[0] \n",
    "    for item in data:\n",
    "        if item > maximum:\n",
    "            maximum = item\n",
    "    return maximum    "
   ]
  },
  {
   "cell_type": "code",
   "execution_count": 20,
   "metadata": {
    "collapsed": false
   },
   "outputs": [],
   "source": [
    "def by_year(data, column, value):\n",
    "    results = {}\n",
    "    for item in data:\n",
    "        if item[column] == value and int(item[0]) in results:\n",
    "            results[int(item[0])] += int(item[4])\n",
    "        elif item[column] == value:\n",
    "            results[int(item[0])] = int(item[4])\n",
    "    return results"
   ]
  },
  {
   "cell_type": "code",
   "execution_count": 22,
   "metadata": {
    "collapsed": false
   },
   "outputs": [
    {
     "data": {
      "text/plain": [
       "{1994: 474732,\n",
       " 1995: 459580,\n",
       " 1996: 456261,\n",
       " 1997: 450840,\n",
       " 1998: 453776,\n",
       " 1999: 449985,\n",
       " 2000: 469794,\n",
       " 2001: 453928,\n",
       " 2002: 445770,\n",
       " 2003: 447445}"
      ]
     },
     "execution_count": 22,
     "metadata": {},
     "output_type": "execute_result"
    }
   ],
   "source": [
    "by_year(cdc_list, 3, '6')"
   ]
  },
  {
   "cell_type": "code",
   "execution_count": 57,
   "metadata": {
    "collapsed": false
   },
   "outputs": [
    {
     "data": {
      "text/plain": [
       "[['2002', '12', '26', '4', '11242'],\n",
       " ['2002', '12', '27', '5', '13650'],\n",
       " ['2002', '12', '28', '6', '9114'],\n",
       " ['2002', '12', '29', '7', '8035'],\n",
       " ['2002', '12', '30', '1', '13158'],\n",
       " ['2002', '12', '31', '2', '12582'],\n",
       " ['2003', '1', '1', '3', '7908'],\n",
       " ['2003', '1', '2', '4', '11124'],\n",
       " ['2003', '1', '3', '5', '12252'],\n",
       " ['2003', '1', '4', '6', '8519']]"
      ]
     },
     "execution_count": 57,
     "metadata": {},
     "output_type": "execute_result"
    }
   ],
   "source": [
    "ssa_list = read_csv(\"US_births_2000-2014_SSA.csv\")\n",
    "ssa_list[1090:1100]"
   ]
  },
  {
   "cell_type": "code",
   "execution_count": 54,
   "metadata": {
    "collapsed": false
   },
   "outputs": [],
   "source": [
    "def merge_births_list(list1, list2):\n",
    "    results = []\n",
    "    for item1 in list1:\n",
    "        same = False\n",
    "        for item2 in list2:\n",
    "            if item1[0] == item2[0] and item1[1] == item2[1] and item1[2] == item2[2] and item1[3] == item2[3]:\n",
    "                same = True\n",
    "                if(item1[0] == '2003' and item1[1] == '1'):\n",
    "                    print(item1[4])\n",
    "                    print(item2[4])\n",
    "                    print(\"--------\")\n",
    "                # result_item = item1\n",
    "\n",
    "                # result_item[4] = (int(result_item[4]) + int(item2[4])) / 2\n",
    "                # results.append(result_item)\n",
    "            else:\n",
    "                results.append(item2)\n",
    "        if not same:\n",
    "            results.append(item1)\n",
    "    return results"
   ]
  },
  {
   "cell_type": "code",
   "execution_count": 55,
   "metadata": {
    "collapsed": false
   },
   "outputs": [
    {
     "name": "stdout",
     "output_type": "stream",
     "text": [
      "7907.5\n",
      "7908\n",
      "--------\n",
      "11123.5\n",
      "11124\n",
      "--------\n",
      "12251.5\n",
      "12252\n",
      "--------\n",
      "8518.5\n",
      "8519\n",
      "--------\n",
      "7494.5\n",
      "7495\n",
      "--------\n",
      "11363.5\n",
      "11364\n",
      "--------\n",
      "12656.5\n",
      "12657\n",
      "--------\n",
      "12166.5\n",
      "12167\n",
      "--------\n",
      "12080.5\n",
      "12081\n",
      "--------\n",
      "12516.5\n",
      "12517\n",
      "--------\n",
      "8470.5\n",
      "8471\n",
      "--------\n",
      "7296.5\n",
      "7297\n",
      "--------\n",
      "11196.5\n",
      "11197\n",
      "--------\n",
      "12917.5\n",
      "12918\n",
      "--------\n",
      "12139.5\n",
      "12140\n",
      "--------\n",
      "12135.5\n",
      "12136\n",
      "--------\n",
      "12109.5\n",
      "12110\n",
      "--------\n",
      "8430.5\n",
      "8431\n",
      "--------\n",
      "7497.5\n",
      "7498\n",
      "--------\n",
      "11044.5\n",
      "11045\n",
      "--------\n",
      "12287.5\n",
      "12288\n",
      "--------\n",
      "12096.5\n",
      "12097\n",
      "--------\n",
      "12184.5\n",
      "12185\n",
      "--------\n",
      "12106.5\n",
      "12107\n",
      "--------\n",
      "8378.5\n",
      "8379\n",
      "--------\n",
      "7388.5\n",
      "7389\n",
      "--------\n",
      "11417.5\n",
      "11418\n",
      "--------\n",
      "12594.5\n",
      "12595\n",
      "--------\n",
      "12099.5\n",
      "12100\n",
      "--------\n",
      "12288.5\n",
      "12289\n",
      "--------\n",
      "11988.5\n",
      "11989\n",
      "--------\n"
     ]
    },
    {
     "data": {
      "text/plain": [
       "[['2002', '12', '26', '4', '11242'],\n",
       " ['2002', '12', '27', '5', '13650'],\n",
       " ['2002', '12', '28', '6', '9114'],\n",
       " ['2002', '12', '29', '7', '8035'],\n",
       " ['2002', '12', '30', '1', '13158'],\n",
       " ['2002', '12', '31', '2', '12582'],\n",
       " ['2003', '1', '1', '3', '7908'],\n",
       " ['2003', '1', '2', '4', '11124'],\n",
       " ['2003', '1', '3', '5', '12252'],\n",
       " ['2003', '1', '4', '6', '8519']]"
      ]
     },
     "execution_count": 55,
     "metadata": {},
     "output_type": "execute_result"
    }
   ],
   "source": [
    "merge_births_list(cdc_list, ssa_list)[1090:1100]"
   ]
  },
  {
   "cell_type": "code",
   "execution_count": null,
   "metadata": {
    "collapsed": true
   },
   "outputs": [],
   "source": []
  }
 ],
 "metadata": {
  "anaconda-cloud": {},
  "kernelspec": {
   "display_name": "Python 3",
   "language": "python",
   "name": "python3"
  },
  "language_info": {
   "codemirror_mode": {
    "name": "ipython",
    "version": 3
   },
   "file_extension": ".py",
   "mimetype": "text/x-python",
   "name": "python",
   "nbconvert_exporter": "python",
   "pygments_lexer": "ipython3",
   "version": "3.4.3"
  }
 },
 "nbformat": 4,
 "nbformat_minor": 1
}
